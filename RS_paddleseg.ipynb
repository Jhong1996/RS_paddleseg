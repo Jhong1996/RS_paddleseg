{
 "cells": [
  {
   "cell_type": "markdown",
   "metadata": {
    "collapsed": false
   },
   "source": [
    "# 常规赛：遥感影像地块分割baseline"
   ]
  },
  {
   "cell_type": "markdown",
   "metadata": {
    "collapsed": false
   },
   "source": [
    "### 比赛页面传送门： [常规赛：遥感影像地块分割](https://aistudio.baidu.com/aistudio/competition/detail/63)    欢迎一键三连 Fork~"
   ]
  },
  {
   "cell_type": "markdown",
   "metadata": {
    "collapsed": false
   },
   "source": [
    "### 赛题介绍\n",
    "本赛题由 2020 CCF BDCI 遥感影像地块分割 初赛赛题改编而来。遥感影像地块分割, 旨在对遥感影像进行像素级内容解析，对遥感影像中感兴趣的类别进行提取和分类，在城乡规划、防汛救灾等领域具有很高的实用价值，在工业界也受到了广泛关注。现有的遥感影像地块分割数据处理方法局限于特定的场景和特定的数据来源，且精度无法满足需求。因此在实际应用中，仍然大量依赖于人工处理，需要消耗大量的人力、物力、财力。本赛题旨在衡量遥感影像地块分割模型在多个类别（如建筑、道路、林地等）上的效果，利用人工智能技术，对多来源、多场景的异构遥感影像数据进行充分挖掘，打造高效、实用的算法，提高遥感影像的分析提取能力。\n",
    "赛题任务\n",
    "本赛题旨在对遥感影像进行像素级内容解析，并对遥感影像中感兴趣的类别进行提取和分类，以衡量遥感影像地块分割模型在多个类别（如建筑、道路、林地等）上的效果。\n",
    "\n",
    "### 数据说明\n",
    "本赛题提供了多个地区已脱敏的遥感影像数据，各参赛选手可以基于这些数据构建自己的地块分割模型。\n",
    "\n",
    "### 训练数据集\n",
    "样例图片及其标注如下图所示：\n",
    "\n",
    "![](https://ai-studio-static-online.cdn.bcebos.com/8087a965609d48a19a5e60f0330fa9054d04097644de48ffa3d557e7a8ad64ad)\n",
    "![](https://ai-studio-static-online.cdn.bcebos.com/d18664ecf0514cb686c95958d30bbf8a2f5efb0691bc4d66a5f6317ab511d6d0)\n",
    "\n",
    "![](https://ai-studio-static-online.cdn.bcebos.com/e42f2c222f204094ac3a0ea8582ca331b0452fb2b1704eabaae379d499906977)\n",
    "![](https://ai-studio-static-online.cdn.bcebos.com/d5260bd5a820486a85aeb2105adfb6fa10284bd94453459f892755bc43e10b8a)\n",
    "\n",
    "\n",
    "训练数据集文件名称：train_and_label.zip\n",
    "\n",
    "包含2个子文件，分别为：训练数据集（原始图片）文件、训练数据集（标注图片）文件，详细介绍如下：\n",
    "\n",
    "* **训练数据集**（原始图片）文件名称：img_train\n",
    "\n",
    "\t包含66,653张分辨率为2m/pixel，尺寸为256 * 256的JPG图片，每张图片的名称形如T000123.jpg。\n",
    "* **训练数据集**（标注图片）文件名称：lab_train\n",
    "\n",
    "\t包含66,653张分辨率为2m/pixel，尺寸为256 * 256的PNG图片，每张图片的名称形如T000123.png。\n",
    "* **备注**： 全部PNG图片共包括4种分类，像素值分别为0、1、2、3。此外，像素值255为未标注区域，表示对应区域的所属类别并不确定，在评测中也不会考虑这部分区域。\n",
    "\n",
    "### 测试数据集\n",
    "测试数据集文件名称：img_test.zip，详细介绍如下：\n",
    "\n",
    "包含4,609张分辨率为2m/pixel，尺寸为256 * 256的JPG图片，文件名称形如123.jpg。、\n",
    "### 数据增强工具\n",
    "PaTTA：由第三方开发者组织AgentMaker维护的Test-Time Augmentation库，可在测试时通过数据增强方式产生额外的推理结果，在此基础上进行投票即可获得更稳定的成绩表现。 https://github.com/AgentMaker/PaTTA\n",
    "\n",
    "RIFLE：由第三方开发者对ICML 2020中的《RIFLE: Backpropagation in Depth for Deep Transfer Learning through Re-Initializing the Fully-connected LayEr》论文所提供的封装版本，其通过对输出层多次重新初始化来使得深层backbone得到更充分的更新。 https://github.com/GT-ZhangAcer/RIFLE_Module\n",
    "\n",
    "### 提交内容及格式\n",
    "* 以zip压缩包形式提交结果文件，文件命名为 result.zip；\n",
    "* zip压缩包中的图片格式必须为单通道PNG；\n",
    "* PNG文件数需要与测试数据集中的文件数相同，且zip压缩包文件名需要与测试数据集中的文件名一一对应；\n",
    "* 单通道PNG图片中的像素值必须介于0~3之间，像素值不能为255。如果存在未标注区域，评测系统会自动忽略对应区域的提交结果。\n",
    "### 提交示例\n",
    "提交文件命名为：result.zip，zip文件的组织方式如下所示：\n",
    "\n",
    "```\n",
    "主目录                                                                        \n",
    "├── 1.png         #每个结果文件命名为：测试数据集图片名称+.png                      \n",
    "├── 2.png                                                              \n",
    "├── 3.png                                                    \n",
    "├── ...     \n",
    "```                                                \n",
    "    \n",
    "**备注**： 主目录中必须包含与测试数据集相同数目、名称相对应的单通道PNG图片，且每张单通道PNG图片中的像素值必须介于0~3之间，像素值不能为255。"
   ]
  },
  {
   "cell_type": "markdown",
   "metadata": {
    "collapsed": false
   },
   "source": [
    "### 环境安装"
   ]
  },
  {
   "cell_type": "code",
   "execution_count": null,
   "metadata": {
    "collapsed": false
   },
   "outputs": [],
   "source": [
    "!git clone https://gitee.com/paddlepaddle/PaddleSeg.git"
   ]
  },
  {
   "cell_type": "code",
   "execution_count": null,
   "metadata": {
    "collapsed": false
   },
   "outputs": [],
   "source": [
    "# 安装所需依赖项\r\n",
    "!pip install -r PaddleSeg/requirements.txt"
   ]
  },
  {
   "cell_type": "markdown",
   "metadata": {
    "collapsed": false
   },
   "source": [
    "### 解压数据集"
   ]
  },
  {
   "cell_type": "code",
   "execution_count": null,
   "metadata": {
    "collapsed": false
   },
   "outputs": [],
   "source": [
    "!unzip -q data/data80164/train_and_label.zip\r\n",
    "!unzip -q data/data80164/img_test.zip"
   ]
  },
  {
   "cell_type": "markdown",
   "metadata": {
    "collapsed": false
   },
   "source": [
    "### 数据处理\n"
   ]
  },
  {
   "cell_type": "code",
   "execution_count": null,
   "metadata": {
    "collapsed": false
   },
   "outputs": [
    {
     "name": "stdout",
     "output_type": "stream",
     "text": [
      "total: 66652\n",
      "img_train/T142629.jpg\n",
      "lab_train/T142629.png\n",
      "('img_train/T000289.jpg', 'lab_train/T000289.png')\n"
     ]
    }
   ],
   "source": [
    "import os\r\n",
    "import numpy as np\r\n",
    "\r\n",
    "datas = []\r\n",
    "image_base = 'img_train'   # 训练集原图路径\r\n",
    "annos_base = 'lab_train'   # 训练集标签路径\r\n",
    "\r\n",
    "# 读取原图文件名\r\n",
    "ids_ = [v.split('.')[0] for v in os.listdir(image_base)]\r\n",
    "\r\n",
    "# 将训练集的图像集和标签路径写入datas中\r\n",
    "for id_ in ids_:\r\n",
    "    img_pt0 = os.path.join(image_base, '{}.jpg'.format(id_))\r\n",
    "    img_pt1 = os.path.join(annos_base, '{}.png'.format(id_))\r\n",
    "    datas.append((img_pt0.replace('/home/aistudio', ''), img_pt1.replace('/home/aistudio', '')))\r\n",
    "    if os.path.exists(img_pt0) and os.path.exists(img_pt1):\r\n",
    "        pass\r\n",
    "    else:\r\n",
    "        raise \"path invalid!\"\r\n",
    "\r\n",
    "# 打印datas的长度和具体存储例子\r\n",
    "print('total:', len(datas))\r\n",
    "print(datas[0][0])\r\n",
    "print(datas[0][1])\r\n",
    "print(datas[10][:])"
   ]
  },
  {
   "cell_type": "code",
   "execution_count": null,
   "metadata": {
    "collapsed": false
   },
   "outputs": [
    {
     "name": "stdout",
     "output_type": "stream",
     "text": [
      "train: 63320\n",
      "valid: 3332\n"
     ]
    }
   ],
   "source": [
    "import numpy as np\r\n",
    "\r\n",
    "# 四类标签，这里用处不大，比赛评测是以0、1、2、3类来对比评测的\r\n",
    "labels = ['建筑', '耕地', '林地',  '其他']\r\n",
    "\r\n",
    "# 将labels写入标签文件\r\n",
    "with open('labels.txt', 'w') as f:\r\n",
    "    for v in labels:\r\n",
    "        f.write(v+'\\n')\r\n",
    "\r\n",
    "# 随机打乱datas\r\n",
    "np.random.seed(5)\r\n",
    "np.random.shuffle(datas)\r\n",
    "\r\n",
    "# 验证集与训练集的划分，0.05表示5%为训练集，95%为训练集\r\n",
    "split_num = int(0.05*len(datas))\r\n",
    "\r\n",
    "# 划分训练集和验证集\r\n",
    "train_data = datas[:-split_num]\r\n",
    "valid_data = datas[-split_num:]\r\n",
    "\r\n",
    "# 写入训练集list\r\n",
    "with open('train_list.txt', 'w') as f:\r\n",
    "    for img, lbl in train_data:\r\n",
    "        f.write(img + ' ' + lbl + '\\n')\r\n",
    "\r\n",
    "# 写入验证集list\r\n",
    "with open('valid_list.txt', 'w') as f:\r\n",
    "    for img, lbl in valid_data:\r\n",
    "        f.write(img + ' ' + lbl + '\\n')\r\n",
    "\r\n",
    "# 打印训练集和测试集大小\r\n",
    "print('train:', len(train_data))\r\n",
    "print('valid:', len(valid_data))"
   ]
  },
  {
   "cell_type": "markdown",
   "metadata": {
    "collapsed": false
   },
   "source": [
    "### 模型训练\n",
    "\n",
    "### [PaddleSeg快速入门](https://github.com/PaddlePaddle/PaddleSeg/blob/release/v0.6.0/docs/usage.md)\n",
    "\n",
    "> PaddleSeg/paddleseg/core/train.py\n",
    "\n",
    "```\n",
    "def train(model,\n",
    "          train_dataset,\n",
    "          val_dataset=None,\n",
    "          optimizer=None,\n",
    "          save_dir='output',\n",
    "          iters=10000,\n",
    "          batch_size=2,\n",
    "          resume_model=None,\n",
    "          save_interval=1000,\n",
    "          log_iters=10,\n",
    "          num_workers=0,\n",
    "          use_vdl=False,\n",
    "          losses=None,\n",
    "          keep_checkpoint_max=5)\n",
    "```\n",
    "\n",
    "> PaddleSeg/configs/deeplabv3p/deeplabv3p_resnet50_os8_cityscapes_1024x512_80k.yml\n",
    "```\n",
    "_base_: '../_base_/cityscapes.yml'\n",
    "\n",
    "batch_size: 8\n",
    "iters: 20000\n",
    "\n",
    "model:\n",
    "  type: DeepLabV3P\n",
    "  backbone:\n",
    "    type: ResNet50_vd\n",
    "    output_stride: 8\n",
    "    multi_grid: [1, 2, 4]\n",
    "    pretrained: https://bj.bcebos.com/paddleseg/dygraph/resnet50_vd_ssld_v2.tar.gz\n",
    "  num_classes: 4\n",
    "  backbone_indices: [0, 3]\n",
    "  aspp_ratios: [1, 12, 24, 36]\n",
    "  aspp_out_channels: 256\n",
    "  align_corners: False\n",
    "  pretrained: null\n",
    "```\n",
    "> PaddleSeg/configs/_base_/cityscapes.yml\n",
    "```\n",
    "train_dataset:\n",
    "  type: Dataset\n",
    "  dataset_root: /home/aistudio\n",
    "  train_path: /home/aistudio/train_list.txt\n",
    "  num_classes: 4\n",
    "  transforms:\n",
    "    - type: ResizeStepScaling\n",
    "      min_scale_factor: 0.5\n",
    "      max_scale_factor: 2.0\n",
    "      scale_step_size: 0.25\n",
    "    - type: RandomPaddingCrop\n",
    "      crop_size: [1024, 512]\n",
    "    - type: RandomHorizontalFlip\n",
    "    - type: RandomDistort\n",
    "      brightness_range: 0.4\n",
    "      contrast_range: 0.4\n",
    "      saturation_range: 0.4\n",
    "    - type: Normalize\n",
    "  mode: train\n",
    "\n",
    "val_dataset:\n",
    "  type: Dataset\n",
    "  dataset_root: /home/aistudio\n",
    "  val_path: /home/aistudio/valid_list.txt\n",
    "  num_classes: 4\n",
    "  transforms:\n",
    "    - type: Normalize\n",
    "  mode: val\n",
    "\n",
    "\n",
    "optimizer:\n",
    "  type: sgd\n",
    "  momentum: 0.9\n",
    "  weight_decay: 4.0e-5\n",
    "\n",
    "learning_rate:\n",
    "  value: 0.01\n",
    "  decay:\n",
    "    type: poly\n",
    "    power: 0.9\n",
    "    end_lr: 0.0\n",
    "\n",
    "loss:\n",
    "  types:\n",
    "    - type: CrossEntropyLoss\n",
    "  coef: [1]\n",
    "```"
   ]
  },
  {
   "cell_type": "code",
   "execution_count": null,
   "metadata": {
    "collapsed": false
   },
   "outputs": [],
   "source": [
    "!python PaddleSeg/train.py \\\r\n",
    "        --config PaddleSeg/configs/deeplabv3p/deeplabv3p_resnet50_os8_cityscapes_1024x512_80k.yml \\\r\n",
    "        --use_vdl \\\r\n",
    "        --do_eval \\\r\n",
    "        --save_interval 10000 \\\r\n",
    "        --save_dir output"
   ]
  },
  {
   "cell_type": "markdown",
   "metadata": {
    "collapsed": false
   },
   "source": [
    "### 模型评估\n",
    "> PaddleSeg/paddleseg/core/val.py\n",
    "```\n",
    "def evaluate(model,\n",
    "             eval_dataset,\n",
    "             aug_eval=False,\n",
    "             scales=1.0,\n",
    "             flip_horizontal=True,\n",
    "             flip_vertical=False,\n",
    "             is_slide=False,\n",
    "             stride=None,\n",
    "             crop_size=None,\n",
    "             num_workers=0,\n",
    "             print_detail=True)\n",
    "```"
   ]
  },
  {
   "cell_type": "code",
   "execution_count": 1,
   "metadata": {
    "collapsed": false
   },
   "outputs": [],
   "source": [
    "!python PaddleSeg/val.py \\\r\n",
    "        --config PaddleSeg/configs/deeplabv3p/deeplabv3p_resnet50_os8_cityscapes_1024x512_80k.yml \\\r\n",
    "        --model_path output/iter_100000/model.pdparams "
   ]
  },
  {
   "cell_type": "markdown",
   "metadata": {
    "collapsed": false
   },
   "source": [
    "### 模型预测\n",
    "\n",
    "> PaddleSeg/paddleseg/core/predict.py\n",
    "\n",
    "\n",
    "```\n",
    "def predict(model,\n",
    "            model_path,\n",
    "            transforms,\n",
    "            image_list,\n",
    "            image_dir=None,\n",
    "            save_dir='output',\n",
    "            aug_pred=False,\n",
    "            scales=1.0,\n",
    "            flip_horizontal=True,\n",
    "            flip_vertical=False,\n",
    "            is_slide=False,\n",
    "            stride=None,\n",
    "            crop_size=None)\n",
    "```\n",
    "```\n",
    "pred_im = utils.visualize(im_path, pred, weight=0.0)\n",
    "result_saved_path = os.path.join(result_saved_dir, im_file)\n",
    "mkdir(result_saved_path)\n",
    "cv2.imwrite(pred_saved_path, pred_im)\n",
    "```"
   ]
  },
  {
   "cell_type": "code",
   "execution_count": 14,
   "metadata": {
    "collapsed": false
   },
   "outputs": [],
   "source": [
    "!python PaddleSeg/predict.py \\\r\n",
    "       --config PaddleSeg/configs/deeplabv3p/deeplabv3p_resnet50_os8_cityscapes_1024x512_80k.yml \\\r\n",
    "       --model_path output/iter_100000/model.pdparams \\\r\n",
    "       --image_path img_testA \\\r\n",
    "       --save_dir result"
   ]
  },
  {
   "cell_type": "code",
   "execution_count": 15,
   "metadata": {
    "collapsed": false
   },
   "outputs": [],
   "source": [
    "# 由预测结果生成提交文件\r\n",
    "!zip -r result.zip result/result/"
   ]
  },
  {
   "cell_type": "markdown",
   "metadata": {
    "collapsed": false
   },
   "source": [
    "### 相关资料\n",
    "\n",
    "#### 飞桨领航团实战速成营：[https://aistudio.baidu.com/aistudio/education/group/info/16606](https://aistudio.baidu.com/aistudio/education/group/info/16606)\n",
    "#### B站视频链接（P5、P6）：[https://www.bilibili.com/video/BV1pp4y1871g](https://www.bilibili.com/video/BV1pp4y1871g)\n",
    "#### 图像分割遥感项目实战：[https://aistudio.baidu.com/aistudio/projectdetail/1703449](https://aistudio.baidu.com/aistudio/projectdetail/1703449)\n",
    "#### 2020 CCF BDCI遥感地块分割解决方案：[https://aistudio.baidu.com/aistudio/projectdetail/1759079?channelType=0&channel=0](https://aistudio.baidu.com/aistudio/projectdetail/1759079?channelType=0&channel=0)\n",
    "#### 2020 CCF BDCI 地块分割Top1方案 & 语义分割trick整理：[https://zhuanlan.zhihu.com/p/346862877](https://zhuanlan.zhihu.com/p/346862877)"
   ]
  },
  {
   "cell_type": "markdown",
   "metadata": {
    "collapsed": false
   },
   "source": [
    "### 比赛页面传送门： [常规赛：遥感影像地块分割](https://aistudio.baidu.com/aistudio/competition/detail/63)    欢迎一键三连 Fork~"
   ]
  }
 ],
 "metadata": {
  "kernelspec": {
   "display_name": "PaddlePaddle 2.0.0b0 (Python 3.5)",
   "language": "python",
   "name": "py35-paddle1.2.0"
  },
  "language_info": {
   "codemirror_mode": {
    "name": "ipython",
    "version": 3
   },
   "file_extension": ".py",
   "mimetype": "text/x-python",
   "name": "python",
   "nbconvert_exporter": "python",
   "pygments_lexer": "ipython3",
   "version": "3.7.4"
  }
 },
 "nbformat": 4,
 "nbformat_minor": 1
}
